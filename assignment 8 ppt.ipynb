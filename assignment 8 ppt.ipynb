{
 "cells": [
  {
   "cell_type": "code",
   "execution_count": 1,
   "id": "293dc99f-9662-40fe-9b51-0017d9cbbfbf",
   "metadata": {},
   "outputs": [
    {
     "name": "stdout",
     "output_type": "stream",
     "text": [
      "231\n"
     ]
    }
   ],
   "source": [
    "#question 1 solution\n",
    "class Solution:\n",
    "    def minimumDeleteSum(self, s1: str, s2: str) -> int:\n",
    "        m, n = len(s1), len(s2)\n",
    "        dp = [[0] * (n + 1) for _ in range(m + 1)]\n",
    "        for i in range(m - 1, -1, -1):\n",
    "            dp[i][n] = dp[i + 1][n] + ord(s1[i])\n",
    "        for j in range(n - 1, -1, -1):\n",
    "            dp[m][j] = dp[m][j + 1] + ord(s2[j])\n",
    "        for i in range(m - 1, -1, -1):\n",
    "            for j in range(n - 1, -1, -1):\n",
    "                if s1[i] == s2[j]:\n",
    "                    dp[i][j] = dp[i + 1][j + 1]\n",
    "                else:\n",
    "                    dp[i][j] = min(dp[i + 1][j] + ord(s1[i]), dp[i][j + 1] + ord(s2[j]))\n",
    "        return dp[0][0]\n",
    "s=Solution()\n",
    "s1 = \"sea\"\n",
    "s2 = \"eat\"\n",
    "output=s.minimumDeleteSum(s1,s2)\n",
    "print(output)"
   ]
  },
  {
   "cell_type": "code",
   "execution_count": 2,
   "id": "69d80ea6-4c40-4b01-a849-d2500a31a414",
   "metadata": {},
   "outputs": [
    {
     "name": "stdout",
     "output_type": "stream",
     "text": [
      "True\n"
     ]
    }
   ],
   "source": [
    "#question 2 solution\n",
    "class Solution:\n",
    "    def checkValidString(self, s: str) -> bool:\n",
    "        left_paren_stack, asterisk_stack = [], []\n",
    "        for i in range(len(s)):\n",
    "            if s[i] == '(':\n",
    "                left_paren_stack.append(i)\n",
    "            elif s[i] == '*':\n",
    "                asterisk_stack.append(i)\n",
    "            else:\n",
    "                if left_paren_stack:\n",
    "                    left_paren_stack.pop()\n",
    "                elif asterisk_stack:\n",
    "                    asterisk_stack.pop()\n",
    "                else:\n",
    "                    return False\n",
    "        while left_paren_stack and asterisk_stack:\n",
    "            if left_paren_stack[-1] > asterisk_stack[-1]:\n",
    "                return False\n",
    "            left_paren_stack.pop()\n",
    "            asterisk_stack.pop()\n",
    "        return not left_paren_stack\n",
    "p=Solution()\n",
    "s = \"()\"\n",
    "output=p.checkValidString(s)\n",
    "print(output)"
   ]
  },
  {
   "cell_type": "code",
   "execution_count": 3,
   "id": "aed02c21-82eb-47e0-bf0f-03e56ed1eca8",
   "metadata": {},
   "outputs": [
    {
     "name": "stdout",
     "output_type": "stream",
     "text": [
      "2\n"
     ]
    }
   ],
   "source": [
    "#question 3 solution\n",
    "class Solution:\n",
    "    def minDistance(self, word1: str, word2: str) -> int:\n",
    "        m, n = len(word1), len(word2)\n",
    "        dp = [[0] * (n + 1) for _ in range(m + 1)]\n",
    "        for i in range(1, m + 1):\n",
    "            for j in range(1, n + 1):\n",
    "                if word1[i - 1] == word2[j - 1]:\n",
    "                    dp[i][j] = dp[i - 1][j - 1] + 1\n",
    "                else:\n",
    "                    dp[i][j] = max(dp[i - 1][j], dp[i][j - 1])\n",
    "        return m + n - 2 * dp[m][n]\n",
    "p=Solution()\n",
    "word1 = \"sea\"\n",
    "word2 = \"eat\"\n",
    "output=p.minDistance(word1,word2)\n",
    "print(output)"
   ]
  },
  {
   "cell_type": "code",
   "execution_count": 7,
   "id": "5b412e73-ada9-4782-8fa7-b45c0dcb4746",
   "metadata": {},
   "outputs": [
    {
     "name": "stdout",
     "output_type": "stream",
     "text": [
      "True\n"
     ]
    }
   ],
   "source": [
    "#question 8 answer\n",
    "class Solution:\n",
    "    def buddyStrings(self, s: str, goal: str) -> bool:\n",
    "        if len(s)!=len(goal):\n",
    "            return False\n",
    "        diff=0\n",
    "        s_i,goal_i=None,None\n",
    "        freq=set()\n",
    "        for s_char,goal_char in zip(s,goal):\n",
    "            freq.add(s_char)\n",
    "            if s_char!=goal_char:\n",
    "                if diff==1 and (s_i!=goal_char or goal_i!=s_char):\n",
    "                    return False\n",
    "                diff+=1\n",
    "                s_i,goal_i=s_char,goal_char\n",
    "        if (diff not in(0,2)) or (diff==0 and len(s)==len(freq)):\n",
    "            return False\n",
    "        return True\n",
    "r=Solution()\n",
    "s = \"ab\"\n",
    "goal = \"ba\"\n",
    "output=r.buddyStrings(s,goal)\n",
    "print(output)"
   ]
  },
  {
   "cell_type": "code",
   "execution_count": null,
   "id": "fc80aee1-84d1-421c-9570-40cec2cda4e7",
   "metadata": {},
   "outputs": [],
   "source": []
  }
 ],
 "metadata": {
  "kernelspec": {
   "display_name": "Python 3 (ipykernel)",
   "language": "python",
   "name": "python3"
  },
  "language_info": {
   "codemirror_mode": {
    "name": "ipython",
    "version": 3
   },
   "file_extension": ".py",
   "mimetype": "text/x-python",
   "name": "python",
   "nbconvert_exporter": "python",
   "pygments_lexer": "ipython3",
   "version": "3.10.6"
  }
 },
 "nbformat": 4,
 "nbformat_minor": 5
}
